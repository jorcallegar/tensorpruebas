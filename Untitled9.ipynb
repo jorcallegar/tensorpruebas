{
  "nbformat": 4,
  "nbformat_minor": 0,
  "metadata": {
    "colab": {
      "name": "Untitled9.ipynb",
      "provenance": [],
      "authorship_tag": "ABX9TyOz4HqvJO3IXy22R1O24XF+",
      "include_colab_link": true
    },
    "kernelspec": {
      "name": "python3",
      "display_name": "Python 3"
    }
  },
  "cells": [
    {
      "cell_type": "markdown",
      "metadata": {
        "id": "view-in-github",
        "colab_type": "text"
      },
      "source": [
        "<a href=\"https://colab.research.google.com/github/jorcallegar/tensorpruebas/blob/master/Untitled9.ipynb\" target=\"_parent\"><img src=\"https://colab.research.google.com/assets/colab-badge.svg\" alt=\"Open In Colab\"/></a>"
      ]
    },
    {
      "cell_type": "markdown",
      "metadata": {
        "id": "dlCPyk3hPQCp",
        "colab_type": "text"
      },
      "source": [
        "\n",
        "\n",
        "Primer uso de Tensorflow\n",
        "\n",
        "\n"
      ]
    },
    {
      "cell_type": "markdown",
      "metadata": {
        "id": "xUiuZqXo3uxA",
        "colab_type": "text"
      },
      "source": [
        "Versión antigua"
      ]
    },
    {
      "cell_type": "code",
      "metadata": {
        "id": "6_F6BWZT_zu1",
        "colab_type": "code",
        "colab": {
          "base_uri": "https://localhost:8080/",
          "height": 79
        },
        "outputId": "0c4e7a49-2809-4020-9a1a-903079add04c"
      },
      "source": [
        "import tensorflow as tf\n",
        "import numpy as np\n",
        "#Crear tensor\n",
        "mammal = tf.Variable(\"Elephant\",tf.string)\n",
        "ignition = tf.Variable(451, tf.int16)\n",
        "floating = tf.Variable(3.14159265359, tf.float64)\n",
        "its_complicated = tf.Variable(12.3 - 4.85j, tf.complex64)"
      ],
      "execution_count": 1,
      "outputs": [
        {
          "output_type": "display_data",
          "data": {
            "text/html": [
              "<p style=\"color: red;\">\n",
              "The default version of TensorFlow in Colab will switch to TensorFlow 2.x on the 27th of March, 2020.<br>\n",
              "We recommend you <a href=\"https://www.tensorflow.org/guide/migrate\" target=\"_blank\">upgrade</a> now\n",
              "or ensure your notebook will continue to use TensorFlow 1.x via the <code>%tensorflow_version 1.x</code> magic:\n",
              "<a href=\"https://colab.research.google.com/notebooks/tensorflow_version.ipynb\" target=\"_blank\">more info</a>.</p>\n"
            ],
            "text/plain": [
              "<IPython.core.display.HTML object>"
            ]
          },
          "metadata": {
            "tags": []
          }
        }
      ]
    },
    {
      "cell_type": "code",
      "metadata": {
        "id": "6rRTBpApA7ks",
        "colab_type": "code",
        "colab": {}
      },
      "source": [
        "#Para crear un Objeto Tensor de Rango 1 o Vector, podemos pasar una lista de ítems como el valor inicial"
      ],
      "execution_count": 0,
      "outputs": []
    },
    {
      "cell_type": "code",
      "metadata": {
        "id": "tDbMdMprBFnh",
        "colab_type": "code",
        "colab": {}
      },
      "source": [
        "mystr = tf.Variable([\"Hello\"], tf.string)\n",
        "cool_numbers = tf.Variable([3.14159, 2.71828], tf.float32)\n",
        "first_primes = tf.Variable([2, 3, 5, 7, 11], tf.int32)\n",
        "its_very_complicated = tf.Variable([12.3 - 4.85j, 7.5 - 6.23j], tf.complex64)"
      ],
      "execution_count": 0,
      "outputs": []
    },
    {
      "cell_type": "code",
      "metadata": {
        "id": "Qebiy3sUCNJ_",
        "colab_type": "code",
        "colab": {}
      },
      "source": [
        "import tensorflow as tf\n",
        "my_image = tf.zeros([10, 299, 299, 3]) #batch x height x width x color\n",
        "r = tf.rank(my_image) # POdemos determinar el rango de un objeto tensor con el metodo tf.rank"
      ],
      "execution_count": 0,
      "outputs": []
    },
    {
      "cell_type": "markdown",
      "metadata": {
        "id": "lwQk5ca93zxI",
        "colab_type": "text"
      },
      "source": [
        "Versión 2.0\n"
      ]
    },
    {
      "cell_type": "code",
      "metadata": {
        "id": "EbY4ZFk_PMbs",
        "colab_type": "code",
        "colab": {}
      },
      "source": [
        "import logging\n",
        "logger = tf.get_logger()\n",
        "logger.setLevel(logging.ERROR)"
      ],
      "execution_count": 0,
      "outputs": []
    },
    {
      "cell_type": "code",
      "metadata": {
        "id": "anGlDTGn5Isx",
        "colab_type": "code",
        "colab": {
          "base_uri": "https://localhost:8080/",
          "height": 134
        },
        "outputId": "6d12b80c-b5aa-490e-c38f-259c1aea0709"
      },
      "source": [
        "x=np.array([-40,-10,0,8,15,22,38],dtype=float)\n",
        "y=np.array([-40, 14,32,46,59,72,100],dtype=float)\n",
        "for i,c in enumerate(x):\n",
        "    print(str(x[i]) + \" hola \" + str(y[i]))"
      ],
      "execution_count": 4,
      "outputs": [
        {
          "output_type": "stream",
          "text": [
            "-40.0 hola -40.0\n",
            "-10.0 hola 14.0\n",
            "0.0 hola 32.0\n",
            "8.0 hola 46.0\n",
            "15.0 hola 59.0\n",
            "22.0 hola 72.0\n",
            "38.0 hola 100.0\n"
          ],
          "name": "stdout"
        }
      ]
    },
    {
      "cell_type": "markdown",
      "metadata": {
        "id": "Q8KIdDGiPjh7",
        "colab_type": "text"
      },
      "source": [
        "TerminologiA\n",
        "\n",
        "\n",
        "*   input_shape=[1] Especificamos el valor de entrada de cada capa.\n",
        "*   units=1. Número de neuronas de cada capa.\n",
        "\n",
        "\n"
      ]
    },
    {
      "cell_type": "code",
      "metadata": {
        "id": "9CktnDj46C-u",
        "colab_type": "code",
        "colab": {}
      },
      "source": [
        "c0 = tf.keras.layers.Dense(units=1, input_shape=[1])"
      ],
      "execution_count": 0,
      "outputs": []
    },
    {
      "cell_type": "code",
      "metadata": {
        "id": "uSr4vRq36TEU",
        "colab_type": "code",
        "colab": {}
      },
      "source": [
        "modelo = tf.keras.Sequential([c0])"
      ],
      "execution_count": 0,
      "outputs": []
    },
    {
      "cell_type": "code",
      "metadata": {
        "id": "X6-398zS6wa0",
        "colab_type": "code",
        "colab": {}
      },
      "source": [
        ""
      ],
      "execution_count": 0,
      "outputs": []
    }
  ]
}