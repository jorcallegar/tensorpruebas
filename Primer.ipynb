{
  "nbformat": 4,
  "nbformat_minor": 0,
  "metadata": {
    "colab": {
      "name": "Untitled9.ipynb",
      "provenance": [],
      "authorship_tag": "ABX9TyPx7TFvalEIzasXW32UasW+",
      "include_colab_link": true
    },
    "kernelspec": {
      "name": "python3",
      "display_name": "Python 3"
    }
  },
  "cells": [
    {
      "cell_type": "markdown",
      "metadata": {
        "id": "view-in-github",
        "colab_type": "text"
      },
      "source": [
        "<a href=\"https://colab.research.google.com/github/jorcallegar/tensorpruebas/blob/master/Primer.ipynb\" target=\"_parent\"><img src=\"https://colab.research.google.com/assets/colab-badge.svg\" alt=\"Open In Colab\"/></a>"
      ]
    },
    {
      "cell_type": "code",
      "metadata": {
        "id": "6_F6BWZT_zu1",
        "colab_type": "code",
        "colab": {}
      },
      "source": [
        "import tensorflow as tf\n",
        "#Crear tensor\n",
        "mammal = tf.Variable(\"Elephant\",tf.string)\n",
        "ignition = tf.Variable(451, tf.int16)\n",
        "floating = tf.Variable(3.14159265359, tf.float64)\n",
        "its_complicated = tf.Variable(12.3 - 4.85j, tf.complex64)"
      ],
      "execution_count": 0,
      "outputs": []
    },
    {
      "cell_type": "code",
      "metadata": {
        "id": "6rRTBpApA7ks",
        "colab_type": "code",
        "colab": {}
      },
      "source": [
        "#Para crear un Objeto Tensor de Rango 1 o Vector, podemos pasar una lista de ítems como el valor inicial"
      ],
      "execution_count": 0,
      "outputs": []
    },
    {
      "cell_type": "code",
      "metadata": {
        "id": "tDbMdMprBFnh",
        "colab_type": "code",
        "colab": {}
      },
      "source": [
        "mystr = tf.Variable([\"Hello\"], tf.string)\n",
        "cool_numbers = tf.Variable([3.14159, 2.71828], tf.float32)\n",
        "first_primes = tf.Variable([2, 3, 5, 7, 11], tf.int32)\n",
        "its_very_complicated = tf.Variable([12.3 - 4.85j, 7.5 - 6.23j], tf.complex64)"
      ],
      "execution_count": 0,
      "outputs": []
    },
    {
      "cell_type": "code",
      "metadata": {
        "id": "Qebiy3sUCNJ_",
        "colab_type": "code",
        "colab": {}
      },
      "source": [
        ""
      ],
      "execution_count": 0,
      "outputs": []
    }
  ]
}